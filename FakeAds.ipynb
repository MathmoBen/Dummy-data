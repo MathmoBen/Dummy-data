{
 "cells": [
  {
   "cell_type": "markdown",
   "id": "a1801c78-8e93-4b31-a2e2-c240dd4a089c",
   "metadata": {},
   "source": [
    "# Fake Appreticeships"
   ]
  },
  {
   "cell_type": "markdown",
   "id": "0931815a-de6a-46b0-baa2-b6b245d50d66",
   "metadata": {},
   "source": [
    "This is an attempt to produce some dummy data to train our system on."
   ]
  },
  {
   "cell_type": "code",
   "execution_count": 7,
   "id": "944116fb-408b-4974-94ef-93ccd6bf2544",
   "metadata": {},
   "outputs": [
    {
     "name": "stdout",
     "output_type": "stream",
     "text": [
      "Collecting faker\n",
      "  Downloading Faker-30.3.0-py3-none-any.whl.metadata (15 kB)\n",
      "Requirement already satisfied: python-dateutil>=2.4 in /opt/anaconda3/lib/python3.12/site-packages (from faker) (2.9.0.post0)\n",
      "Requirement already satisfied: typing-extensions in /opt/anaconda3/lib/python3.12/site-packages (from faker) (4.11.0)\n",
      "Requirement already satisfied: six>=1.5 in /opt/anaconda3/lib/python3.12/site-packages (from python-dateutil>=2.4->faker) (1.16.0)\n",
      "Downloading Faker-30.3.0-py3-none-any.whl (1.8 MB)\n",
      "\u001b[2K   \u001b[90m━━━━━━━━━━━━━━━━━━━━━━━━━━━━━━━━━━━━━━━━\u001b[0m \u001b[32m1.8/1.8 MB\u001b[0m \u001b[31m4.5 MB/s\u001b[0m eta \u001b[36m0:00:00\u001b[0ma \u001b[36m0:00:01\u001b[0m\n",
      "\u001b[?25hInstalling collected packages: faker\n",
      "Successfully installed faker-30.3.0\n",
      "Note: you may need to restart the kernel to use updated packages.\n"
     ]
    }
   ],
   "source": [
    "pip install faker"
   ]
  },
  {
   "cell_type": "code",
   "execution_count": 9,
   "id": "9940dbb0-b9b3-42b5-9efc-5fc18e45982d",
   "metadata": {},
   "outputs": [],
   "source": [
    "# Initaial imports\n",
    "\n",
    "from faker import Faker\n",
    "import random\n",
    "from datetime import datetime, timedelta\n",
    "import pandas as pd\n",
    "\n",
    "fake = Faker()"
   ]
  },
  {
   "cell_type": "markdown",
   "id": "fbd5a89c-8bf7-43c2-8f34-ace87d810a8d",
   "metadata": {},
   "source": [
    "## First attempt"
   ]
  },
  {
   "cell_type": "markdown",
   "id": "139f53d7-7355-4acf-a109-5b1cfc95cf2e",
   "metadata": {},
   "source": [
    "The below was its first attempt, though the output consisted of gibberish placenames and \"Postcodes\" that were more like US-style zipcodes."
   ]
  },
  {
   "cell_type": "code",
   "execution_count": 11,
   "id": "a409e417-b866-4bb6-8976-17d6a0839316",
   "metadata": {},
   "outputs": [
    {
     "name": "stdout",
     "output_type": "stream",
     "text": [
      "Generated 4500 apprenticeship records and saved to apprenticeships_data_20241008.csv\n"
     ]
    }
   ],
   "source": [
    "\n",
    "\n",
    "# List of common job sectors and roles for apprenticeships\n",
    "SECTORS = [\n",
    "    \"Information Technology\", \"Healthcare\", \"Manufacturing\", \"Construction\",\n",
    "    \"Business Administration\", \"Hospitality\", \"Automotive\", \"Engineering\",\n",
    "    \"Digital Marketing\", \"Financial Services\"\n",
    "]\n",
    "\n",
    "ROLES = {\n",
    "    \"Information Technology\": [\"Software Developer\", \"Network Technician\", \"IT Support\", \"Cloud Engineer\", \"Cybersecurity Analyst\"],\n",
    "    \"Healthcare\": [\"Healthcare Assistant\", \"Dental Nurse\", \"Pharmacy Technician\", \"Medical Administrator\"],\n",
    "    \"Manufacturing\": [\"Production Operative\", \"Quality Control\", \"Manufacturing Technician\", \"Process Operator\"],\n",
    "    \"Construction\": [\"Carpenter\", \"Electrician\", \"Plumber\", \"Bricklayer\", \"Construction Technician\"],\n",
    "    \"Business Administration\": [\"Business Administrator\", \"HR Assistant\", \"Office Manager\", \"Project Coordinator\"],\n",
    "    \"Hospitality\": [\"Chef\", \"Hospitality Team Member\", \"Hotel Operations\", \"Events Coordinator\"],\n",
    "    \"Automotive\": [\"Motor Vehicle Technician\", \"Auto Body Repair\", \"Vehicle Paint Technician\"],\n",
    "    \"Engineering\": [\"Mechanical Engineer\", \"Electrical Engineer\", \"Maintenance Engineer\"],\n",
    "    \"Digital Marketing\": [\"Digital Marketing Assistant\", \"Social Media Coordinator\", \"Content Creator\"],\n",
    "    \"Financial Services\": [\"Accounting Technician\", \"Insurance Practitioner\", \"Financial Administrator\"]\n",
    "}\n",
    "\n",
    "LEVELS = [\"Intermediate\", \"Advanced\", \"Higher\", \"Degree\"]\n",
    "DURATIONS = [12, 18, 24, 36, 48]  # months\n",
    "\n",
    "def generate_salary():\n",
    "    \"\"\"Generate a realistic apprenticeship salary.\"\"\"\n",
    "    base = random.uniform(15000, 35000)\n",
    "    level_multiplier = random.uniform(0.9, 1.3)\n",
    "    return round(base * level_multiplier, -3)  # Round to nearest thousand\n",
    "\n",
    "def generate_apprenticeship():\n",
    "    \"\"\"Generate a single apprenticeship entry.\"\"\"\n",
    "    sector = random.choice(SECTORS)\n",
    "    role = random.choice(ROLES[sector])\n",
    "    level = random.choice(LEVELS)\n",
    "    duration = random.choice(DURATIONS)\n",
    "    \n",
    "    # Generate start date within next 6 months\n",
    "    start_date = fake.date_between(\n",
    "        start_date=datetime.now(),\n",
    "        end_date=datetime.now() + timedelta(days=180)\n",
    "    )\n",
    "\n",
    "    return {\n",
    "        \"position_id\": fake.unique.uuid4(),\n",
    "        \"company_name\": fake.company(),\n",
    "        \"role_title\": role,\n",
    "        \"sector\": sector,\n",
    "        \"level\": level,\n",
    "        \"duration_months\": duration,\n",
    "        \"salary_gbp\": generate_salary(),\n",
    "        \"location\": fake.city(),\n",
    "        \"postal_code\": fake.postcode(),\n",
    "        \"start_date\": start_date.strftime(\"%Y-%m-%d\"),\n",
    "        \"requirements\": f\"Minimum {random.choice(['GCSE', 'A-Level'])} qualifications required\",\n",
    "        \"contact_email\": fake.company_email(),\n",
    "        \"posted_date\": (start_date - timedelta(days=random.randint(1, 30))).strftime(\"%Y-%m-%d\")\n",
    "    }\n",
    "\n",
    "def generate_apprenticeships(num_records=4500):\n",
    "    \"\"\"Generate multiple apprenticeship records and save to CSV.\"\"\"\n",
    "    apprenticeships = [generate_apprenticeship() for _ in range(num_records)]\n",
    "    df = pd.DataFrame(apprenticeships)\n",
    "    \n",
    "    # Save to CSV\n",
    "    filename = f\"apprenticeships_data_{datetime.now().strftime('%Y%m%d')}.csv\"\n",
    "    df.to_csv(filename, index=False)\n",
    "    print(f\"Generated {num_records} apprenticeship records and saved to {filename}\")\n",
    "    return df\n",
    "\n",
    "if __name__ == \"__main__\":\n",
    "    generate_apprenticeships()"
   ]
  },
  {
   "cell_type": "markdown",
   "id": "7f5020ed-273c-43ce-b97e-a8b45d588673",
   "metadata": {},
   "source": [
    "## Second attempt"
   ]
  },
  {
   "cell_type": "markdown",
   "id": "a7db39d2-b1d2-4a81-b26e-81d633e05e73",
   "metadata": {},
   "source": [
    "Asked to ammend the code to use real English places and their corresponding postcodes."
   ]
  },
  {
   "cell_type": "code",
   "execution_count": 17,
   "id": "fa639edb-ec3d-4114-a48e-f067ea7cd4c9",
   "metadata": {},
   "outputs": [
    {
     "name": "stdout",
     "output_type": "stream",
     "text": [
      "Generated 4500 apprenticeship records and saved to apprenticeships_data_v2_20241008.csv\n"
     ]
    }
   ],
   "source": [
    "from faker import Faker\n",
    "import random\n",
    "from datetime import datetime, timedelta\n",
    "import pandas as pd\n",
    "\n",
    "fake = Faker(['en_GB'])  # Use British locale\n",
    "\n",
    "# List of major English cities and towns\n",
    "ENGLISH_LOCATIONS = [\n",
    "    \"Bath\"\n",
    "    \"Birmingham\", \n",
    "    \"Blackpool\",\n",
    "    \"Bournemouth\",\n",
    "    \"Brighton\",\n",
    "    \"Bristol\", \n",
    "    \"Cambridge\",\n",
    "    \"Carlisle\",\n",
    "    \"Coventry\",\n",
    "    \"Derby\",\n",
    "    \"Exeter\", \n",
    "    \"Hull\", \n",
    "    \"Ipswich\",\n",
    "    \"Leeds\",\n",
    "    \"Leicester\",\n",
    "    \"Liverpool\",     \n",
    "    \"London\", \n",
    "    \"Luton\",\n",
    "    \"Manchester\",\n",
    "    \"Middlesbrough\", \n",
    "    \"Milton Keynes\",\n",
    "    \"Newcastle\",\n",
    "    \"Northampton\", \n",
    "    \"Norwich\",\n",
    "    \"Nottingham\", \n",
    "    \"Oxford\",\n",
    "    \"Peterborough\",\n",
    "    \"Plymouth\",\n",
    "    \"Portsmouth\",\n",
    "    \"Preston\",\n",
    "    \"Reading\",\n",
    "    \"Sheffield\", \n",
    "    \"Southampton\",\n",
    "    \"St Ives\",\n",
    "    \"Stoke-on-Trent\", \n",
    "    \"Sunderland\",\n",
    "    \"Swindon\",\n",
    "    \"Watford\",\n",
    "    \"Wolverhampton\", \n",
    "    \"York\"\n",
    "]\n",
    "\n",
    "# Dictionary mapping cities to their general postcode area\n",
    "POSTCODE_AREAS = {\n",
    "    \"Watford\": [\"WD\"],\n",
    "    \"Bournemouth\": [\"BH\"],\n",
    "    \"St Ives\":[\"TR\"],\n",
    "    \"Sunderland\": [\"SR\"],\n",
    "    \"Carlisle\": [\"CA\"],\n",
    "    \"Bath\": [\"BA\"],\n",
    "    \"London\": [\"E\", \"EC\", \"N\", \"NW\", \"SE\", \"SW\", \"W\", \"WC\"],\n",
    "    \"Manchester\": [\"M\"],\n",
    "    \"Birmingham\": [\"B\"],\n",
    "    \"Liverpool\": [\"L\"],\n",
    "    \"Leeds\": [\"LS\"],\n",
    "    \"Newcastle\": [\"NE\"],\n",
    "    \"Sheffield\": [\"S\"],\n",
    "    \"Nottingham\": [\"NG\"],\n",
    "    \"Bristol\": [\"BS\"],\n",
    "    \"Leicester\": [\"LE\"],\n",
    "    \"Coventry\": [\"CV\"],\n",
    "    \"York\": [\"YO\"],\n",
    "    \"Portsmouth\": [\"PO\"],\n",
    "    \"Cambridge\": [\"CB\"],\n",
    "    \"Oxford\": [\"OX\"],\n",
    "    \"Brighton\": [\"BN\"],\n",
    "    \"Reading\": [\"RG\"],\n",
    "    \"Milton Keynes\": [\"MK\"],\n",
    "    \"Southampton\": [\"SO\"],\n",
    "    \"Plymouth\": [\"PL\"],\n",
    "    \"Norwich\": [\"NR\"],\n",
    "    \"Swindon\": [\"SN\"],\n",
    "    \"Exeter\": [\"EX\"],\n",
    "    \"Ipswich\": [\"IP\"],\n",
    "    \"Derby\": [\"DE\"],\n",
    "    \"Northampton\": [\"NN\"],\n",
    "    \"Luton\": [\"LU\"],\n",
    "    \"Blackpool\": [\"FY\"],\n",
    "    \"Hull\": [\"HU\"],\n",
    "    \"Preston\": [\"PR\"],\n",
    "    \"Middlesbrough\": [\"TS\"],\n",
    "    \"Stoke-on-Trent\": [\"ST\"],\n",
    "    \"Wolverhampton\": [\"WV\"],\n",
    "    \"Peterborough\": [\"PE\"]\n",
    "}\n",
    "\n",
    "def generate_uk_postcode(city):\n",
    "    \"\"\"Generate a realistic UK postcode for a given city.\"\"\"\n",
    "    area = random.choice(POSTCODE_AREAS.get(city, [\"XX\"]))  # Default to XX if city not found\n",
    "    \n",
    "    # Generate the first part (outward code)\n",
    "    if len(area) == 1:\n",
    "        outward = f\"{area}{random.randint(1, 11)}\"\n",
    "    else:\n",
    "        outward = f\"{area}{random.randint(1, 9)}\"\n",
    "    \n",
    "    # Generate the second part (inward code)\n",
    "    inward = f\"{random.randint(0, 9)}{chr(random.randint(65, 90))}{chr(random.randint(65, 90))}\"\n",
    "    \n",
    "    return f\"{outward} {inward}\"\n",
    "\n",
    "SECTORS = [\n",
    "    \"Information Technology\", \"Healthcare\", \"Manufacturing\", \"Construction\",\n",
    "    \"Business Administration\", \"Hospitality\", \"Automotive\", \"Engineering\",\n",
    "    \"Digital Marketing\", \"Financial Services\"\n",
    "]\n",
    "\n",
    "ROLES = {\n",
    "    \"Information Technology\": [\"Software Developer\", \"Network Technician\", \"IT Support\", \"Cloud Engineer\", \"Cybersecurity Analyst\"],\n",
    "    \"Healthcare\": [\"Healthcare Assistant\", \"Dental Nurse\", \"Pharmacy Technician\", \"Medical Administrator\"],\n",
    "    \"Manufacturing\": [\"Production Operative\", \"Quality Control\", \"Manufacturing Technician\", \"Process Operator\"],\n",
    "    \"Construction\": [\"Carpenter\", \"Electrician\", \"Plumber\", \"Bricklayer\", \"Construction Technician\"],\n",
    "    \"Business Administration\": [\"Business Administrator\", \"HR Assistant\", \"Office Manager\", \"Project Coordinator\"],\n",
    "    \"Hospitality\": [\"Chef\", \"Hospitality Team Member\", \"Hotel Operations\", \"Events Coordinator\"],\n",
    "    \"Automotive\": [\"Motor Vehicle Technician\", \"Auto Body Repair\", \"Vehicle Paint Technician\"],\n",
    "    \"Engineering\": [\"Mechanical Engineer\", \"Electrical Engineer\", \"Maintenance Engineer\"],\n",
    "    \"Digital Marketing\": [\"Digital Marketing Assistant\", \"Social Media Coordinator\", \"Content Creator\"],\n",
    "    \"Financial Services\": [\"Accounting Technician\", \"Insurance Practitioner\", \"Financial Administrator\"]\n",
    "}\n",
    "\n",
    "LEVELS = [2, 3, 4, 6]\n",
    "DURATIONS = [12, 18, 24, 36, 48]  # months\n",
    "\n",
    "def generate_salary():\n",
    "    \"\"\"Generate a realistic apprenticeship salary.\"\"\"\n",
    "    base = random.uniform(15000, 35000)\n",
    "    level_multiplier = random.uniform(0.9, 1.3)\n",
    "    return round(base * level_multiplier, -3)  # Round to nearest thousand\n",
    "\n",
    "def generate_apprenticeship():\n",
    "    \"\"\"Generate a single apprenticeship entry.\"\"\"\n",
    "    sector = random.choice(SECTORS)\n",
    "    role = random.choice(ROLES[sector])\n",
    "    level = random.choice(LEVELS)\n",
    "    duration = random.choice(DURATIONS)\n",
    "    location = random.choice(ENGLISH_LOCATIONS)\n",
    "    \n",
    "    # Generate start date within next 6 months\n",
    "    start_date = fake.date_between(\n",
    "        start_date=datetime.now(),\n",
    "        end_date=datetime.now() + timedelta(days=180)\n",
    "    )\n",
    "\n",
    "    return {\n",
    "        \"position_id\": fake.unique.uuid4(),\n",
    "        \"company_name\": fake.company(),\n",
    "        \"role_title\": role,\n",
    "        \"sector\": sector,\n",
    "        \"level\": level,\n",
    "        \"duration_months\": duration,\n",
    "        \"salary_gbp\": generate_salary(),\n",
    "        \"location\": location,\n",
    "        \"postal_code\": generate_uk_postcode(location),\n",
    "        \"start_date\": start_date.strftime(\"%Y-%m-%d\"),\n",
    "        \"requirements\": f\"Minimum {random.choice(['GCSE', 'A-Level'])} qualifications required\",\n",
    "        \"contact_email\": fake.company_email(),\n",
    "        \"posted_date\": (start_date - timedelta(days=random.randint(1, 30))).strftime(\"%Y-%m-%d\")\n",
    "    }\n",
    "\n",
    "def generate_apprenticeships(num_records=4500):\n",
    "    \"\"\"Generate multiple apprenticeship records and save to CSV.\"\"\"\n",
    "    apprenticeships = [generate_apprenticeship() for _ in range(num_records)]\n",
    "    df = pd.DataFrame(apprenticeships)\n",
    "    \n",
    "    # Save to CSV\n",
    "    filename = f\"apprenticeships_data_v2_{datetime.now().strftime('%Y%m%d')}.csv\"\n",
    "    df.to_csv(filename, index=False)\n",
    "    print(f\"Generated {num_records} apprenticeship records and saved to {filename}\")\n",
    "    return df\n",
    "\n",
    "if __name__ == \"__main__\":\n",
    "    generate_apprenticeships()"
   ]
  },
  {
   "cell_type": "markdown",
   "id": "b3942814-470a-4f95-8a34-342a6151fa83",
   "metadata": {},
   "source": [
    "# This attempt"
   ]
  },
  {
   "cell_type": "markdown",
   "id": "0403b65f-9463-498c-a165-7b29c5284f23",
   "metadata": {},
   "source": [
    "Added some course description functionality."
   ]
  },
  {
   "cell_type": "code",
   "execution_count": 25,
   "id": "fbccdc20-1458-40a5-9797-bfa355ad2c4e",
   "metadata": {},
   "outputs": [
    {
     "name": "stdout",
     "output_type": "stream",
     "text": [
      "Generated 5000 apprenticeship records and saved to apprenticeships_data_v2_20241010.csv\n"
     ]
    }
   ],
   "source": [
    "fake = Faker(['en_GB'])  # Use British locale\n",
    "\n",
    "# Previous constants remain the same (ENGLISH_LOCATIONS, POSTCODE_AREAS, SECTORS, ROLES, LEVELS, DURATIONS)\n",
    "#[Previous constants remain unchanged...]\n",
    "\n",
    "# Add course description components\n",
    "COURSE_COMPONENTS = {\n",
    "    \"Information Technology\": {\n",
    "        \"core_skills\": [\n",
    "            \"programming fundamentals\",\n",
    "            \"database management\",\n",
    "            \"network infrastructure\",\n",
    "            \"cybersecurity principles\",\n",
    "            \"cloud computing\",\n",
    "            \"agile methodologies\",\n",
    "            \"system architecture\",\n",
    "            \"software testing\"\n",
    "        ],\n",
    "        \"learning_outcomes\": [\n",
    "            \"develop robust software applications\",\n",
    "            \"implement secure network solutions\",\n",
    "            \"manage IT infrastructure\",\n",
    "            \"troubleshoot technical issues\",\n",
    "            \"design system architectures\",\n",
    "            \"maintain cloud-based systems\"\n",
    "        ]\n",
    "    },\n",
    "    \"Healthcare\": {\n",
    "        \"core_skills\": [\n",
    "            \"patient care\",\n",
    "            \"medical terminology\",\n",
    "            \"health and safety protocols\",\n",
    "            \"clinical procedures\",\n",
    "            \"medical record keeping\",\n",
    "            \"infection control\",\n",
    "            \"healthcare regulations\"\n",
    "        ],\n",
    "        \"learning_outcomes\": [\n",
    "            \"deliver patient-centered care\",\n",
    "            \"maintain medical records\",\n",
    "            \"perform clinical procedures\",\n",
    "            \"ensure regulatory compliance\",\n",
    "            \"implement care plans\"\n",
    "        ]\n",
    "    },\n",
    "    \"Manufacturing\": {\n",
    "        \"core_skills\": [\n",
    "            \"production processes\",\n",
    "            \"quality control\",\n",
    "            \"machinery operation\",\n",
    "            \"workplace safety\",\n",
    "            \"lean manufacturing\",\n",
    "            \"inventory management\"\n",
    "        ],\n",
    "        \"learning_outcomes\": [\n",
    "            \"operate industrial equipment\",\n",
    "            \"implement quality control measures\",\n",
    "            \"optimize production processes\",\n",
    "            \"maintain safety standards\",\n",
    "            \"manage inventory systems\"\n",
    "        ]\n",
    "    },\n",
    "    \"Construction\": {\n",
    "        \"core_skills\": [\n",
    "            \"building techniques\",\n",
    "            \"safety regulations\",\n",
    "            \"blueprint reading\",\n",
    "            \"tool proficiency\",\n",
    "            \"site management\",\n",
    "            \"construction materials\"\n",
    "        ],\n",
    "        \"learning_outcomes\": [\n",
    "            \"execute construction projects\",\n",
    "            \"interpret technical drawings\",\n",
    "            \"ensure site safety\",\n",
    "            \"coordinate construction activities\",\n",
    "            \"implement building regulations\"\n",
    "        ]\n",
    "    },\n",
    "    \"Business Administration\": {\n",
    "        \"core_skills\": [\n",
    "            \"office management\",\n",
    "            \"communication\",\n",
    "            \"document handling\",\n",
    "            \"administrative procedures\",\n",
    "            \"project coordination\",\n",
    "            \"business software\"\n",
    "        ],\n",
    "        \"learning_outcomes\": [\n",
    "            \"manage office operations\",\n",
    "            \"coordinate business activities\",\n",
    "            \"implement administrative systems\",\n",
    "            \"support project delivery\",\n",
    "            \"maintain business records\"\n",
    "        ]\n",
    "    }\n",
    "}\n",
    "\n",
    "# Default skills and outcomes for sectors not explicitly defined\n",
    "DEFAULT_COMPONENTS = {\n",
    "    \"core_skills\": [\n",
    "        \"industry-specific knowledge\",\n",
    "        \"professional communication\",\n",
    "        \"technical expertise\",\n",
    "        \"safety awareness\",\n",
    "        \"quality standards\"\n",
    "    ],\n",
    "    \"learning_outcomes\": [\n",
    "        \"demonstrate professional competence\",\n",
    "        \"apply industry standards\",\n",
    "        \"contribute to team objectives\",\n",
    "        \"maintain quality requirements\",\n",
    "        \"support business operations\"\n",
    "    ]\n",
    "}\n",
    "\n",
    "def generate_course_description(sector, role, level):\n",
    "    \"\"\"Generate a detailed course description based on sector, role, and level.\"\"\"\n",
    "    components = COURSE_COMPONENTS.get(sector, DEFAULT_COMPONENTS)\n",
    "    \n",
    "    # Select random skills and outcomes\n",
    "    skills = random.sample(components[\"core_skills\"], min(3, len(components[\"core_skills\"])))\n",
    "    outcomes = random.sample(components[\"learning_outcomes\"], min(3, len(components[\"learning_outcomes\"])))\n",
    "    \n",
    "    # Level-specific terminology\n",
    "    level_terms = {\n",
    "        2: \"foundation knowledge and skills\",\n",
    "        3: \"advanced techniques and comprehensive understanding\",\n",
    "        4: \"higher-level expertise and strategic competencies\",\n",
    "        6: \"degree-level theoretical and practical knowledge\"\n",
    "    }\n",
    "\n",
    "    description = f\"\"\"This Level {level} apprenticeship in {role} provides {level_terms[level]} within the {sector} sector. \n",
    "\n",
    "Key areas of study include:\n",
    "- {skills[0]}\n",
    "- {skills[1]}\n",
    "- {skills[2]}\n",
    "\n",
    "Upon completion, apprentices will be able to:\n",
    "- {outcomes[0]}\n",
    "- {outcomes[1]}\n",
    "- {outcomes[2]}\n",
    "\n",
    "This programme combines workplace learning with structured training, enabling apprentices to gain practical experience while developing theoretical understanding. Assessment includes a combination of workplace observation, portfolio development, and final assessment.\n",
    "\n",
    "Successful completion leads to a recognized qualification in {role}, with opportunities for career progression in {sector}.\"\"\"\n",
    "\n",
    "    return description\n",
    "\n",
    "def generate_salary():\n",
    "    \"\"\"Generate a realistic apprenticeship salary.\"\"\"\n",
    "    base = random.uniform(10000, 35000)\n",
    "    level_multiplier = random.uniform(0.9, 1.3)\n",
    "    return round(base * level_multiplier, -3)  # Round to nearest thousand\n",
    "\n",
    "LEVELS = [2, 3, 4, 6]\n",
    "\n",
    "def generate_apprenticeship():\n",
    "    \"\"\"Generate a single apprenticeship entry.\"\"\"\n",
    "    sector = random.choice(SECTORS)\n",
    "    role = random.choice(ROLES[sector])\n",
    "    level = random.choice(LEVELS)\n",
    "    duration = random.choice(DURATIONS)\n",
    "    location = random.choice(ENGLISH_LOCATIONS)\n",
    "    \n",
    "    # Generate start date within next 6 months\n",
    "    start_date = fake.date_between(\n",
    "        start_date=datetime.now(),\n",
    "        end_date=datetime.now() + timedelta(days=180)\n",
    "    )\n",
    "\n",
    "    return {\n",
    "        \"position_id\": fake.unique.uuid4(),\n",
    "        \"company_name\": fake.company(),\n",
    "        \"role_title\": role,\n",
    "        \"sector\": sector,\n",
    "        \"level\": level,\n",
    "        \"duration_months\": duration,\n",
    "        \"salary_gbp\": generate_salary(),\n",
    "        \"location\": location,\n",
    "        \"postal_code\": generate_uk_postcode(location),\n",
    "        \"start_date\": start_date.strftime(\"%Y-%m-%d\"),\n",
    "        \"requirements\": f\"Minimum {random.choice(['GCSE', 'A-Level'])} qualifications required\",\n",
    "        \"contact_email\": fake.company_email(),\n",
    "        \"posted_date\": (start_date - timedelta(days=random.randint(1, 30))).strftime(\"%Y-%m-%d\"),\n",
    "        \"course_description\": generate_course_description(sector, role, level)\n",
    "    }\n",
    "\n",
    "def generate_apprenticeships(num_records=5000):\n",
    "    \"\"\"Generate multiple apprenticeship records and save to CSV.\"\"\"\n",
    "    apprenticeships = [generate_apprenticeship() for _ in range(num_records)]\n",
    "    df = pd.DataFrame(apprenticeships)\n",
    "    \n",
    "    # Save to CSV\n",
    "    filename = f\"apprenticeships_data_v2_{datetime.now().strftime('%Y%m%d')}.csv\"\n",
    "    df.to_csv(filename, index=False)\n",
    "    print(f\"Generated {num_records} apprenticeship records and saved to {filename}\")\n",
    "    return df\n",
    "\n",
    "if __name__ == \"__main__\":\n",
    "    generate_apprenticeships()"
   ]
  },
  {
   "cell_type": "code",
   "execution_count": 35,
   "id": "25d00e86-7118-43a9-9bb5-bc82da51a80c",
   "metadata": {},
   "outputs": [
    {
     "data": {
      "text/plain": [
       "3276.1666666666665"
      ]
     },
     "execution_count": 35,
     "metadata": {},
     "output_type": "execute_result"
    }
   ],
   "source": [
    "n = (12570 + 0.8*(46000-12570))/12\n",
    "n"
   ]
  },
  {
   "cell_type": "code",
   "execution_count": 47,
   "id": "c93b047a-ba5c-4d9f-8314-86618553b528",
   "metadata": {},
   "outputs": [
    {
     "data": {
      "text/plain": [
       "319.08333333333326"
      ]
     },
     "execution_count": 47,
     "metadata": {},
     "output_type": "execute_result"
    }
   ],
   "source": [
    "n*0.5-1200-119"
   ]
  },
  {
   "cell_type": "code",
   "execution_count": 39,
   "id": "195ac2f6-3dda-4782-b04e-2d7399c36fdc",
   "metadata": {},
   "outputs": [
    {
     "data": {
      "text/plain": [
       "982.8499999999999"
      ]
     },
     "execution_count": 39,
     "metadata": {},
     "output_type": "execute_result"
    }
   ],
   "source": [
    "n*0.3"
   ]
  },
  {
   "cell_type": "code",
   "execution_count": 41,
   "id": "3bace48e-dced-4d26-a52c-666858504f32",
   "metadata": {},
   "outputs": [
    {
     "data": {
      "text/plain": [
       "655.2333333333333"
      ]
     },
     "execution_count": 41,
     "metadata": {},
     "output_type": "execute_result"
    }
   ],
   "source": [
    "n*0.2"
   ]
  },
  {
   "cell_type": "code",
   "execution_count": 43,
   "id": "ea2036fb-930c-4b2e-91ca-3aa40f8eaba4",
   "metadata": {},
   "outputs": [
    {
     "data": {
      "text/plain": [
       "32.22459016393442"
      ]
     },
     "execution_count": 43,
     "metadata": {},
     "output_type": "execute_result"
    }
   ],
   "source": [
    "n*0.3/30.5"
   ]
  },
  {
   "cell_type": "code",
   "execution_count": null,
   "id": "b0eebb54-cf0d-42f3-80b5-048562e24a46",
   "metadata": {},
   "outputs": [],
   "source": []
  }
 ],
 "metadata": {
  "kernelspec": {
   "display_name": "Python 3 (ipykernel)",
   "language": "python",
   "name": "python3"
  },
  "language_info": {
   "codemirror_mode": {
    "name": "ipython",
    "version": 3
   },
   "file_extension": ".py",
   "mimetype": "text/x-python",
   "name": "python",
   "nbconvert_exporter": "python",
   "pygments_lexer": "ipython3",
   "version": "3.12.4"
  }
 },
 "nbformat": 4,
 "nbformat_minor": 5
}
